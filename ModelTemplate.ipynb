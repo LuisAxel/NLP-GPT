{
  "cells": [
    {
      "cell_type": "code",
      "execution_count": 1,
      "metadata": {
        "id": "NLyR9luRWsxI"
      },
      "outputs": [],
      "source": [
        "# The MIT License (MIT) Copyright (c) 2023 Emilio Morales\n",
        "#\n",
        "# Permission is hereby granted, free of charge, to any person obtaining a copy of\n",
        "# this software and associated documentation files (the \"Software\"), to deal in the Software without\n",
        "# restriction, including without limitation the rights to use, copy, modify, merge, publish,\n",
        "# distribute, sublicense, and/or sell copies of the Software, and to permit persons to whom the\n",
        "# Software is furnished to do so, subject to the following conditions:\n",
        "#\n",
        "# The above copyright notice and this permission notice shall be included in all copies or\n",
        "# substantial portions of the Software.\n",
        "#\n",
        "# THE SOFTWARE IS PROVIDED \"AS IS\", WITHOUT WARRANTY OF ANY KIND, EXPRESS OR IMPLIED,\n",
        "# INCLUDING BUT NOT LIMITED TO THE WARRANTIES OF MERCHANTABILITY, FITNESS FOR A PARTICULAR PURPOSE AND\n",
        "# NONINFRINGEMENT. IN NO EVENT SHALL THE AUTHORS OR COPYRIGHT HOLDERS BE LIABLE FOR ANY CLAIM, DAMAGES\n",
        "# OR OTHER LIABILITY, WHETHER IN AN ACTION OF CONTRACT, TORT OR OTHERWISE, ARISING FROM, OUT OF OR IN\n",
        "# CONNECTION WITH THE SOFTWARE OR THE USE OR OTHER DEALINGS IN THE SOFTWARE."
      ]
    },
    {
      "cell_type": "markdown",
      "metadata": {
        "id": "WqusX_h4WsxK"
      },
      "source": [
        "<table class=\"tfo-notebook-buttons\" align=\"left\">\n",
        "  <td>\n",
        "    <a target=\"_blank\" href=\"https://colab.research.google.com/github/milmor/NLP/blob/main/Notebooks/13_RNN_LSTM.ipynb\">\n",
        "    <img src=\"https://www.tensorflow.org/images/colab_logo_32px.png\" />\n",
        "    Run in Google Colab</a>\n",
        "  </td>\n",
        "</table>"
      ]
    },
    {
      "cell_type": "markdown",
      "metadata": {
        "id": "ty7Z3RRm2v0P"
      },
      "source": [
        "# Redes neuronales recurrentes\n",
        "  \n",
        "- Dataset: https://www.kaggle.com/datasets/andrewmvd/cyberbullying-classification"
      ]
    },
    {
      "cell_type": "code",
      "execution_count": 2,
      "metadata": {
        "colab": {
          "base_uri": "https://localhost:8080/",
          "height": 36
        },
        "id": "z2GHykBnWsxM",
        "outputId": "6e58133f-1a8a-4a9a-fcc7-ad4c4e5c9ea7"
      },
      "outputs": [
        {
          "output_type": "execute_result",
          "data": {
            "text/plain": [
              "'2.2.1+cu121'"
            ],
            "application/vnd.google.colaboratory.intrinsic+json": {
              "type": "string"
            }
          },
          "metadata": {},
          "execution_count": 2
        }
      ],
      "source": [
        "import torch\n",
        "import pandas as pd\n",
        "\n",
        "torch.__version__"
      ]
    },
    {
      "cell_type": "code",
      "execution_count": 3,
      "metadata": {
        "id": "ryOL1_XG4ABQ",
        "colab": {
          "base_uri": "https://localhost:8080/"
        },
        "outputId": "124f93af-d271-4891-de67-bc3b78b1250f"
      },
      "outputs": [
        {
          "output_type": "execute_result",
          "data": {
            "text/plain": [
              "<torch._C.Generator at 0x7904847ad8b0>"
            ]
          },
          "metadata": {},
          "execution_count": 3
        }
      ],
      "source": [
        "torch.manual_seed(77)"
      ]
    },
    {
      "cell_type": "markdown",
      "metadata": {
        "id": "YuZuE99sWsxO"
      },
      "source": [
        "## 1.- Conjuntos de entrenamiento y validación"
      ]
    },
    {
      "cell_type": "code",
      "execution_count": 4,
      "metadata": {
        "id": "AMYquSpqWsxO"
      },
      "outputs": [],
      "source": [
        "df = pd.read_csv('./cyberbullying_tweets.csv')"
      ]
    },
    {
      "cell_type": "code",
      "execution_count": 5,
      "metadata": {
        "colab": {
          "base_uri": "https://localhost:8080/",
          "height": 206
        },
        "id": "RzWCMFd3WsxP",
        "outputId": "9008ab31-964b-4a87-88c0-bafa80fe74bd"
      },
      "outputs": [
        {
          "output_type": "execute_result",
          "data": {
            "text/plain": [
              "                                          tweet_text cyberbullying_type\n",
              "0  In other words #katandandre, your food was cra...  not_cyberbullying\n",
              "1  Why is #aussietv so white? #MKR #theblock #ImA...  not_cyberbullying\n",
              "2  @XochitlSuckkks a classy whore? Or more red ve...  not_cyberbullying\n",
              "3  @Jason_Gio meh. :P  thanks for the heads up, b...  not_cyberbullying\n",
              "4  @RudhoeEnglish This is an ISIS account pretend...  not_cyberbullying"
            ],
            "text/html": [
              "\n",
              "  <div id=\"df-6da3de4a-f1b6-4f91-a1ee-4c3e4f017f66\" class=\"colab-df-container\">\n",
              "    <div>\n",
              "<style scoped>\n",
              "    .dataframe tbody tr th:only-of-type {\n",
              "        vertical-align: middle;\n",
              "    }\n",
              "\n",
              "    .dataframe tbody tr th {\n",
              "        vertical-align: top;\n",
              "    }\n",
              "\n",
              "    .dataframe thead th {\n",
              "        text-align: right;\n",
              "    }\n",
              "</style>\n",
              "<table border=\"1\" class=\"dataframe\">\n",
              "  <thead>\n",
              "    <tr style=\"text-align: right;\">\n",
              "      <th></th>\n",
              "      <th>tweet_text</th>\n",
              "      <th>cyberbullying_type</th>\n",
              "    </tr>\n",
              "  </thead>\n",
              "  <tbody>\n",
              "    <tr>\n",
              "      <th>0</th>\n",
              "      <td>In other words #katandandre, your food was cra...</td>\n",
              "      <td>not_cyberbullying</td>\n",
              "    </tr>\n",
              "    <tr>\n",
              "      <th>1</th>\n",
              "      <td>Why is #aussietv so white? #MKR #theblock #ImA...</td>\n",
              "      <td>not_cyberbullying</td>\n",
              "    </tr>\n",
              "    <tr>\n",
              "      <th>2</th>\n",
              "      <td>@XochitlSuckkks a classy whore? Or more red ve...</td>\n",
              "      <td>not_cyberbullying</td>\n",
              "    </tr>\n",
              "    <tr>\n",
              "      <th>3</th>\n",
              "      <td>@Jason_Gio meh. :P  thanks for the heads up, b...</td>\n",
              "      <td>not_cyberbullying</td>\n",
              "    </tr>\n",
              "    <tr>\n",
              "      <th>4</th>\n",
              "      <td>@RudhoeEnglish This is an ISIS account pretend...</td>\n",
              "      <td>not_cyberbullying</td>\n",
              "    </tr>\n",
              "  </tbody>\n",
              "</table>\n",
              "</div>\n",
              "    <div class=\"colab-df-buttons\">\n",
              "\n",
              "  <div class=\"colab-df-container\">\n",
              "    <button class=\"colab-df-convert\" onclick=\"convertToInteractive('df-6da3de4a-f1b6-4f91-a1ee-4c3e4f017f66')\"\n",
              "            title=\"Convert this dataframe to an interactive table.\"\n",
              "            style=\"display:none;\">\n",
              "\n",
              "  <svg xmlns=\"http://www.w3.org/2000/svg\" height=\"24px\" viewBox=\"0 -960 960 960\">\n",
              "    <path d=\"M120-120v-720h720v720H120Zm60-500h600v-160H180v160Zm220 220h160v-160H400v160Zm0 220h160v-160H400v160ZM180-400h160v-160H180v160Zm440 0h160v-160H620v160ZM180-180h160v-160H180v160Zm440 0h160v-160H620v160Z\"/>\n",
              "  </svg>\n",
              "    </button>\n",
              "\n",
              "  <style>\n",
              "    .colab-df-container {\n",
              "      display:flex;\n",
              "      gap: 12px;\n",
              "    }\n",
              "\n",
              "    .colab-df-convert {\n",
              "      background-color: #E8F0FE;\n",
              "      border: none;\n",
              "      border-radius: 50%;\n",
              "      cursor: pointer;\n",
              "      display: none;\n",
              "      fill: #1967D2;\n",
              "      height: 32px;\n",
              "      padding: 0 0 0 0;\n",
              "      width: 32px;\n",
              "    }\n",
              "\n",
              "    .colab-df-convert:hover {\n",
              "      background-color: #E2EBFA;\n",
              "      box-shadow: 0px 1px 2px rgba(60, 64, 67, 0.3), 0px 1px 3px 1px rgba(60, 64, 67, 0.15);\n",
              "      fill: #174EA6;\n",
              "    }\n",
              "\n",
              "    .colab-df-buttons div {\n",
              "      margin-bottom: 4px;\n",
              "    }\n",
              "\n",
              "    [theme=dark] .colab-df-convert {\n",
              "      background-color: #3B4455;\n",
              "      fill: #D2E3FC;\n",
              "    }\n",
              "\n",
              "    [theme=dark] .colab-df-convert:hover {\n",
              "      background-color: #434B5C;\n",
              "      box-shadow: 0px 1px 3px 1px rgba(0, 0, 0, 0.15);\n",
              "      filter: drop-shadow(0px 1px 2px rgba(0, 0, 0, 0.3));\n",
              "      fill: #FFFFFF;\n",
              "    }\n",
              "  </style>\n",
              "\n",
              "    <script>\n",
              "      const buttonEl =\n",
              "        document.querySelector('#df-6da3de4a-f1b6-4f91-a1ee-4c3e4f017f66 button.colab-df-convert');\n",
              "      buttonEl.style.display =\n",
              "        google.colab.kernel.accessAllowed ? 'block' : 'none';\n",
              "\n",
              "      async function convertToInteractive(key) {\n",
              "        const element = document.querySelector('#df-6da3de4a-f1b6-4f91-a1ee-4c3e4f017f66');\n",
              "        const dataTable =\n",
              "          await google.colab.kernel.invokeFunction('convertToInteractive',\n",
              "                                                    [key], {});\n",
              "        if (!dataTable) return;\n",
              "\n",
              "        const docLinkHtml = 'Like what you see? Visit the ' +\n",
              "          '<a target=\"_blank\" href=https://colab.research.google.com/notebooks/data_table.ipynb>data table notebook</a>'\n",
              "          + ' to learn more about interactive tables.';\n",
              "        element.innerHTML = '';\n",
              "        dataTable['output_type'] = 'display_data';\n",
              "        await google.colab.output.renderOutput(dataTable, element);\n",
              "        const docLink = document.createElement('div');\n",
              "        docLink.innerHTML = docLinkHtml;\n",
              "        element.appendChild(docLink);\n",
              "      }\n",
              "    </script>\n",
              "  </div>\n",
              "\n",
              "\n",
              "<div id=\"df-a9b2a924-85e1-4227-9043-120523fe8c7d\">\n",
              "  <button class=\"colab-df-quickchart\" onclick=\"quickchart('df-a9b2a924-85e1-4227-9043-120523fe8c7d')\"\n",
              "            title=\"Suggest charts\"\n",
              "            style=\"display:none;\">\n",
              "\n",
              "<svg xmlns=\"http://www.w3.org/2000/svg\" height=\"24px\"viewBox=\"0 0 24 24\"\n",
              "     width=\"24px\">\n",
              "    <g>\n",
              "        <path d=\"M19 3H5c-1.1 0-2 .9-2 2v14c0 1.1.9 2 2 2h14c1.1 0 2-.9 2-2V5c0-1.1-.9-2-2-2zM9 17H7v-7h2v7zm4 0h-2V7h2v10zm4 0h-2v-4h2v4z\"/>\n",
              "    </g>\n",
              "</svg>\n",
              "  </button>\n",
              "\n",
              "<style>\n",
              "  .colab-df-quickchart {\n",
              "      --bg-color: #E8F0FE;\n",
              "      --fill-color: #1967D2;\n",
              "      --hover-bg-color: #E2EBFA;\n",
              "      --hover-fill-color: #174EA6;\n",
              "      --disabled-fill-color: #AAA;\n",
              "      --disabled-bg-color: #DDD;\n",
              "  }\n",
              "\n",
              "  [theme=dark] .colab-df-quickchart {\n",
              "      --bg-color: #3B4455;\n",
              "      --fill-color: #D2E3FC;\n",
              "      --hover-bg-color: #434B5C;\n",
              "      --hover-fill-color: #FFFFFF;\n",
              "      --disabled-bg-color: #3B4455;\n",
              "      --disabled-fill-color: #666;\n",
              "  }\n",
              "\n",
              "  .colab-df-quickchart {\n",
              "    background-color: var(--bg-color);\n",
              "    border: none;\n",
              "    border-radius: 50%;\n",
              "    cursor: pointer;\n",
              "    display: none;\n",
              "    fill: var(--fill-color);\n",
              "    height: 32px;\n",
              "    padding: 0;\n",
              "    width: 32px;\n",
              "  }\n",
              "\n",
              "  .colab-df-quickchart:hover {\n",
              "    background-color: var(--hover-bg-color);\n",
              "    box-shadow: 0 1px 2px rgba(60, 64, 67, 0.3), 0 1px 3px 1px rgba(60, 64, 67, 0.15);\n",
              "    fill: var(--button-hover-fill-color);\n",
              "  }\n",
              "\n",
              "  .colab-df-quickchart-complete:disabled,\n",
              "  .colab-df-quickchart-complete:disabled:hover {\n",
              "    background-color: var(--disabled-bg-color);\n",
              "    fill: var(--disabled-fill-color);\n",
              "    box-shadow: none;\n",
              "  }\n",
              "\n",
              "  .colab-df-spinner {\n",
              "    border: 2px solid var(--fill-color);\n",
              "    border-color: transparent;\n",
              "    border-bottom-color: var(--fill-color);\n",
              "    animation:\n",
              "      spin 1s steps(1) infinite;\n",
              "  }\n",
              "\n",
              "  @keyframes spin {\n",
              "    0% {\n",
              "      border-color: transparent;\n",
              "      border-bottom-color: var(--fill-color);\n",
              "      border-left-color: var(--fill-color);\n",
              "    }\n",
              "    20% {\n",
              "      border-color: transparent;\n",
              "      border-left-color: var(--fill-color);\n",
              "      border-top-color: var(--fill-color);\n",
              "    }\n",
              "    30% {\n",
              "      border-color: transparent;\n",
              "      border-left-color: var(--fill-color);\n",
              "      border-top-color: var(--fill-color);\n",
              "      border-right-color: var(--fill-color);\n",
              "    }\n",
              "    40% {\n",
              "      border-color: transparent;\n",
              "      border-right-color: var(--fill-color);\n",
              "      border-top-color: var(--fill-color);\n",
              "    }\n",
              "    60% {\n",
              "      border-color: transparent;\n",
              "      border-right-color: var(--fill-color);\n",
              "    }\n",
              "    80% {\n",
              "      border-color: transparent;\n",
              "      border-right-color: var(--fill-color);\n",
              "      border-bottom-color: var(--fill-color);\n",
              "    }\n",
              "    90% {\n",
              "      border-color: transparent;\n",
              "      border-bottom-color: var(--fill-color);\n",
              "    }\n",
              "  }\n",
              "</style>\n",
              "\n",
              "  <script>\n",
              "    async function quickchart(key) {\n",
              "      const quickchartButtonEl =\n",
              "        document.querySelector('#' + key + ' button');\n",
              "      quickchartButtonEl.disabled = true;  // To prevent multiple clicks.\n",
              "      quickchartButtonEl.classList.add('colab-df-spinner');\n",
              "      try {\n",
              "        const charts = await google.colab.kernel.invokeFunction(\n",
              "            'suggestCharts', [key], {});\n",
              "      } catch (error) {\n",
              "        console.error('Error during call to suggestCharts:', error);\n",
              "      }\n",
              "      quickchartButtonEl.classList.remove('colab-df-spinner');\n",
              "      quickchartButtonEl.classList.add('colab-df-quickchart-complete');\n",
              "    }\n",
              "    (() => {\n",
              "      let quickchartButtonEl =\n",
              "        document.querySelector('#df-a9b2a924-85e1-4227-9043-120523fe8c7d button');\n",
              "      quickchartButtonEl.style.display =\n",
              "        google.colab.kernel.accessAllowed ? 'block' : 'none';\n",
              "    })();\n",
              "  </script>\n",
              "</div>\n",
              "\n",
              "    </div>\n",
              "  </div>\n"
            ],
            "application/vnd.google.colaboratory.intrinsic+json": {
              "type": "dataframe",
              "variable_name": "df",
              "summary": "{\n  \"name\": \"df\",\n  \"rows\": 47692,\n  \"fields\": [\n    {\n      \"column\": \"tweet_text\",\n      \"properties\": {\n        \"dtype\": \"string\",\n        \"num_unique_values\": 46017,\n        \"samples\": [\n          \"@AndyEaston85 Love how we are teaching the Bullshitters a lesson in football. Miss Bully and his message board posts.\",\n          \"GYUK | Anti-feminist YouTuber doubles down on vile Jess Phillips rape joke while leaping to the defence ...: In a video uploaded Thursday (April 23), former UKIP candidate Benjamin jumped to the defence of retired gay porn actor turned men's rights\\u2026 http://dlvr.it/RVRS8h\",\n          \"@Truth_Haqq Islam declared war on all mankind 1400 years ago. Now we return the favor. http://t.co/av4B4yCQzY\"\n        ],\n        \"semantic_type\": \"\",\n        \"description\": \"\"\n      }\n    },\n    {\n      \"column\": \"cyberbullying_type\",\n      \"properties\": {\n        \"dtype\": \"category\",\n        \"num_unique_values\": 6,\n        \"samples\": [\n          \"not_cyberbullying\",\n          \"gender\",\n          \"ethnicity\"\n        ],\n        \"semantic_type\": \"\",\n        \"description\": \"\"\n      }\n    }\n  ]\n}"
            }
          },
          "metadata": {},
          "execution_count": 5
        }
      ],
      "source": [
        "df.head()"
      ]
    },
    {
      "cell_type": "code",
      "execution_count": 6,
      "metadata": {
        "tags": [],
        "colab": {
          "base_uri": "https://localhost:8080/"
        },
        "id": "31fuEsY9WsxQ",
        "outputId": "692ec327-1e38-4edc-cfa8-22a5f0c59cc3"
      },
      "outputs": [
        {
          "output_type": "execute_result",
          "data": {
            "text/plain": [
              "array(['not_cyberbullying', 'gender', 'religion', 'other_cyberbullying',\n",
              "       'age', 'ethnicity'], dtype=object)"
            ]
          },
          "metadata": {},
          "execution_count": 6
        }
      ],
      "source": [
        "df['cyberbullying_type'].unique()"
      ]
    },
    {
      "cell_type": "code",
      "execution_count": 7,
      "metadata": {
        "tags": [],
        "colab": {
          "base_uri": "https://localhost:8080/"
        },
        "id": "rTQaqm_WWsxQ",
        "outputId": "a375a55d-c653-44a7-f177-53024194e6f6"
      },
      "outputs": [
        {
          "output_type": "execute_result",
          "data": {
            "text/plain": [
              "cyberbullying_type\n",
              "religion               7998\n",
              "age                    7992\n",
              "gender                 7973\n",
              "ethnicity              7961\n",
              "not_cyberbullying      7945\n",
              "other_cyberbullying    7823\n",
              "Name: count, dtype: int64"
            ]
          },
          "metadata": {},
          "execution_count": 7
        }
      ],
      "source": [
        "# Contar elementos por clase\n",
        "count = df['cyberbullying_type'].value_counts()\n",
        "count"
      ]
    },
    {
      "cell_type": "code",
      "execution_count": 8,
      "metadata": {
        "colab": {
          "base_uri": "https://localhost:8080/",
          "height": 206
        },
        "id": "opMqYTNZWsxR",
        "outputId": "cdb0b53a-6ca1-4bad-a797-1a24d87c0eb3"
      },
      "outputs": [
        {
          "output_type": "execute_result",
          "data": {
            "text/plain": [
              "                                          tweet_text  cyberbullying_type\n",
              "0  In other words #katandandre, your food was cra...                   0\n",
              "1  Why is #aussietv so white? #MKR #theblock #ImA...                   0\n",
              "2  @XochitlSuckkks a classy whore? Or more red ve...                   0\n",
              "3  @Jason_Gio meh. :P  thanks for the heads up, b...                   0\n",
              "4  @RudhoeEnglish This is an ISIS account pretend...                   0"
            ],
            "text/html": [
              "\n",
              "  <div id=\"df-5b6f1c4f-d4df-4a65-b541-4ade5af0b79d\" class=\"colab-df-container\">\n",
              "    <div>\n",
              "<style scoped>\n",
              "    .dataframe tbody tr th:only-of-type {\n",
              "        vertical-align: middle;\n",
              "    }\n",
              "\n",
              "    .dataframe tbody tr th {\n",
              "        vertical-align: top;\n",
              "    }\n",
              "\n",
              "    .dataframe thead th {\n",
              "        text-align: right;\n",
              "    }\n",
              "</style>\n",
              "<table border=\"1\" class=\"dataframe\">\n",
              "  <thead>\n",
              "    <tr style=\"text-align: right;\">\n",
              "      <th></th>\n",
              "      <th>tweet_text</th>\n",
              "      <th>cyberbullying_type</th>\n",
              "    </tr>\n",
              "  </thead>\n",
              "  <tbody>\n",
              "    <tr>\n",
              "      <th>0</th>\n",
              "      <td>In other words #katandandre, your food was cra...</td>\n",
              "      <td>0</td>\n",
              "    </tr>\n",
              "    <tr>\n",
              "      <th>1</th>\n",
              "      <td>Why is #aussietv so white? #MKR #theblock #ImA...</td>\n",
              "      <td>0</td>\n",
              "    </tr>\n",
              "    <tr>\n",
              "      <th>2</th>\n",
              "      <td>@XochitlSuckkks a classy whore? Or more red ve...</td>\n",
              "      <td>0</td>\n",
              "    </tr>\n",
              "    <tr>\n",
              "      <th>3</th>\n",
              "      <td>@Jason_Gio meh. :P  thanks for the heads up, b...</td>\n",
              "      <td>0</td>\n",
              "    </tr>\n",
              "    <tr>\n",
              "      <th>4</th>\n",
              "      <td>@RudhoeEnglish This is an ISIS account pretend...</td>\n",
              "      <td>0</td>\n",
              "    </tr>\n",
              "  </tbody>\n",
              "</table>\n",
              "</div>\n",
              "    <div class=\"colab-df-buttons\">\n",
              "\n",
              "  <div class=\"colab-df-container\">\n",
              "    <button class=\"colab-df-convert\" onclick=\"convertToInteractive('df-5b6f1c4f-d4df-4a65-b541-4ade5af0b79d')\"\n",
              "            title=\"Convert this dataframe to an interactive table.\"\n",
              "            style=\"display:none;\">\n",
              "\n",
              "  <svg xmlns=\"http://www.w3.org/2000/svg\" height=\"24px\" viewBox=\"0 -960 960 960\">\n",
              "    <path d=\"M120-120v-720h720v720H120Zm60-500h600v-160H180v160Zm220 220h160v-160H400v160Zm0 220h160v-160H400v160ZM180-400h160v-160H180v160Zm440 0h160v-160H620v160ZM180-180h160v-160H180v160Zm440 0h160v-160H620v160Z\"/>\n",
              "  </svg>\n",
              "    </button>\n",
              "\n",
              "  <style>\n",
              "    .colab-df-container {\n",
              "      display:flex;\n",
              "      gap: 12px;\n",
              "    }\n",
              "\n",
              "    .colab-df-convert {\n",
              "      background-color: #E8F0FE;\n",
              "      border: none;\n",
              "      border-radius: 50%;\n",
              "      cursor: pointer;\n",
              "      display: none;\n",
              "      fill: #1967D2;\n",
              "      height: 32px;\n",
              "      padding: 0 0 0 0;\n",
              "      width: 32px;\n",
              "    }\n",
              "\n",
              "    .colab-df-convert:hover {\n",
              "      background-color: #E2EBFA;\n",
              "      box-shadow: 0px 1px 2px rgba(60, 64, 67, 0.3), 0px 1px 3px 1px rgba(60, 64, 67, 0.15);\n",
              "      fill: #174EA6;\n",
              "    }\n",
              "\n",
              "    .colab-df-buttons div {\n",
              "      margin-bottom: 4px;\n",
              "    }\n",
              "\n",
              "    [theme=dark] .colab-df-convert {\n",
              "      background-color: #3B4455;\n",
              "      fill: #D2E3FC;\n",
              "    }\n",
              "\n",
              "    [theme=dark] .colab-df-convert:hover {\n",
              "      background-color: #434B5C;\n",
              "      box-shadow: 0px 1px 3px 1px rgba(0, 0, 0, 0.15);\n",
              "      filter: drop-shadow(0px 1px 2px rgba(0, 0, 0, 0.3));\n",
              "      fill: #FFFFFF;\n",
              "    }\n",
              "  </style>\n",
              "\n",
              "    <script>\n",
              "      const buttonEl =\n",
              "        document.querySelector('#df-5b6f1c4f-d4df-4a65-b541-4ade5af0b79d button.colab-df-convert');\n",
              "      buttonEl.style.display =\n",
              "        google.colab.kernel.accessAllowed ? 'block' : 'none';\n",
              "\n",
              "      async function convertToInteractive(key) {\n",
              "        const element = document.querySelector('#df-5b6f1c4f-d4df-4a65-b541-4ade5af0b79d');\n",
              "        const dataTable =\n",
              "          await google.colab.kernel.invokeFunction('convertToInteractive',\n",
              "                                                    [key], {});\n",
              "        if (!dataTable) return;\n",
              "\n",
              "        const docLinkHtml = 'Like what you see? Visit the ' +\n",
              "          '<a target=\"_blank\" href=https://colab.research.google.com/notebooks/data_table.ipynb>data table notebook</a>'\n",
              "          + ' to learn more about interactive tables.';\n",
              "        element.innerHTML = '';\n",
              "        dataTable['output_type'] = 'display_data';\n",
              "        await google.colab.output.renderOutput(dataTable, element);\n",
              "        const docLink = document.createElement('div');\n",
              "        docLink.innerHTML = docLinkHtml;\n",
              "        element.appendChild(docLink);\n",
              "      }\n",
              "    </script>\n",
              "  </div>\n",
              "\n",
              "\n",
              "<div id=\"df-8f81e5ea-c3d8-4941-885d-39cf08585311\">\n",
              "  <button class=\"colab-df-quickchart\" onclick=\"quickchart('df-8f81e5ea-c3d8-4941-885d-39cf08585311')\"\n",
              "            title=\"Suggest charts\"\n",
              "            style=\"display:none;\">\n",
              "\n",
              "<svg xmlns=\"http://www.w3.org/2000/svg\" height=\"24px\"viewBox=\"0 0 24 24\"\n",
              "     width=\"24px\">\n",
              "    <g>\n",
              "        <path d=\"M19 3H5c-1.1 0-2 .9-2 2v14c0 1.1.9 2 2 2h14c1.1 0 2-.9 2-2V5c0-1.1-.9-2-2-2zM9 17H7v-7h2v7zm4 0h-2V7h2v10zm4 0h-2v-4h2v4z\"/>\n",
              "    </g>\n",
              "</svg>\n",
              "  </button>\n",
              "\n",
              "<style>\n",
              "  .colab-df-quickchart {\n",
              "      --bg-color: #E8F0FE;\n",
              "      --fill-color: #1967D2;\n",
              "      --hover-bg-color: #E2EBFA;\n",
              "      --hover-fill-color: #174EA6;\n",
              "      --disabled-fill-color: #AAA;\n",
              "      --disabled-bg-color: #DDD;\n",
              "  }\n",
              "\n",
              "  [theme=dark] .colab-df-quickchart {\n",
              "      --bg-color: #3B4455;\n",
              "      --fill-color: #D2E3FC;\n",
              "      --hover-bg-color: #434B5C;\n",
              "      --hover-fill-color: #FFFFFF;\n",
              "      --disabled-bg-color: #3B4455;\n",
              "      --disabled-fill-color: #666;\n",
              "  }\n",
              "\n",
              "  .colab-df-quickchart {\n",
              "    background-color: var(--bg-color);\n",
              "    border: none;\n",
              "    border-radius: 50%;\n",
              "    cursor: pointer;\n",
              "    display: none;\n",
              "    fill: var(--fill-color);\n",
              "    height: 32px;\n",
              "    padding: 0;\n",
              "    width: 32px;\n",
              "  }\n",
              "\n",
              "  .colab-df-quickchart:hover {\n",
              "    background-color: var(--hover-bg-color);\n",
              "    box-shadow: 0 1px 2px rgba(60, 64, 67, 0.3), 0 1px 3px 1px rgba(60, 64, 67, 0.15);\n",
              "    fill: var(--button-hover-fill-color);\n",
              "  }\n",
              "\n",
              "  .colab-df-quickchart-complete:disabled,\n",
              "  .colab-df-quickchart-complete:disabled:hover {\n",
              "    background-color: var(--disabled-bg-color);\n",
              "    fill: var(--disabled-fill-color);\n",
              "    box-shadow: none;\n",
              "  }\n",
              "\n",
              "  .colab-df-spinner {\n",
              "    border: 2px solid var(--fill-color);\n",
              "    border-color: transparent;\n",
              "    border-bottom-color: var(--fill-color);\n",
              "    animation:\n",
              "      spin 1s steps(1) infinite;\n",
              "  }\n",
              "\n",
              "  @keyframes spin {\n",
              "    0% {\n",
              "      border-color: transparent;\n",
              "      border-bottom-color: var(--fill-color);\n",
              "      border-left-color: var(--fill-color);\n",
              "    }\n",
              "    20% {\n",
              "      border-color: transparent;\n",
              "      border-left-color: var(--fill-color);\n",
              "      border-top-color: var(--fill-color);\n",
              "    }\n",
              "    30% {\n",
              "      border-color: transparent;\n",
              "      border-left-color: var(--fill-color);\n",
              "      border-top-color: var(--fill-color);\n",
              "      border-right-color: var(--fill-color);\n",
              "    }\n",
              "    40% {\n",
              "      border-color: transparent;\n",
              "      border-right-color: var(--fill-color);\n",
              "      border-top-color: var(--fill-color);\n",
              "    }\n",
              "    60% {\n",
              "      border-color: transparent;\n",
              "      border-right-color: var(--fill-color);\n",
              "    }\n",
              "    80% {\n",
              "      border-color: transparent;\n",
              "      border-right-color: var(--fill-color);\n",
              "      border-bottom-color: var(--fill-color);\n",
              "    }\n",
              "    90% {\n",
              "      border-color: transparent;\n",
              "      border-bottom-color: var(--fill-color);\n",
              "    }\n",
              "  }\n",
              "</style>\n",
              "\n",
              "  <script>\n",
              "    async function quickchart(key) {\n",
              "      const quickchartButtonEl =\n",
              "        document.querySelector('#' + key + ' button');\n",
              "      quickchartButtonEl.disabled = true;  // To prevent multiple clicks.\n",
              "      quickchartButtonEl.classList.add('colab-df-spinner');\n",
              "      try {\n",
              "        const charts = await google.colab.kernel.invokeFunction(\n",
              "            'suggestCharts', [key], {});\n",
              "      } catch (error) {\n",
              "        console.error('Error during call to suggestCharts:', error);\n",
              "      }\n",
              "      quickchartButtonEl.classList.remove('colab-df-spinner');\n",
              "      quickchartButtonEl.classList.add('colab-df-quickchart-complete');\n",
              "    }\n",
              "    (() => {\n",
              "      let quickchartButtonEl =\n",
              "        document.querySelector('#df-8f81e5ea-c3d8-4941-885d-39cf08585311 button');\n",
              "      quickchartButtonEl.style.display =\n",
              "        google.colab.kernel.accessAllowed ? 'block' : 'none';\n",
              "    })();\n",
              "  </script>\n",
              "</div>\n",
              "\n",
              "    </div>\n",
              "  </div>\n"
            ],
            "application/vnd.google.colaboratory.intrinsic+json": {
              "type": "dataframe",
              "variable_name": "df",
              "summary": "{\n  \"name\": \"df\",\n  \"rows\": 47692,\n  \"fields\": [\n    {\n      \"column\": \"tweet_text\",\n      \"properties\": {\n        \"dtype\": \"string\",\n        \"num_unique_values\": 46017,\n        \"samples\": [\n          \"@AndyEaston85 Love how we are teaching the Bullshitters a lesson in football. Miss Bully and his message board posts.\",\n          \"GYUK | Anti-feminist YouTuber doubles down on vile Jess Phillips rape joke while leaping to the defence ...: In a video uploaded Thursday (April 23), former UKIP candidate Benjamin jumped to the defence of retired gay porn actor turned men's rights\\u2026 http://dlvr.it/RVRS8h\",\n          \"@Truth_Haqq Islam declared war on all mankind 1400 years ago. Now we return the favor. http://t.co/av4B4yCQzY\"\n        ],\n        \"semantic_type\": \"\",\n        \"description\": \"\"\n      }\n    },\n    {\n      \"column\": \"cyberbullying_type\",\n      \"properties\": {\n        \"dtype\": \"number\",\n        \"std\": 1,\n        \"min\": 0,\n        \"max\": 5,\n        \"num_unique_values\": 6,\n        \"samples\": [\n          0,\n          1,\n          5\n        ],\n        \"semantic_type\": \"\",\n        \"description\": \"\"\n      }\n    }\n  ]\n}"
            }
          },
          "metadata": {},
          "execution_count": 8
        }
      ],
      "source": [
        "# Creamos un diccionario que mapea cada etiqueta a un número entero\n",
        "labels_dict = {\n",
        "    'not_cyberbullying': 0,\n",
        "    'gender': 1,\n",
        "    'religion': 2,\n",
        "    'other_cyberbullying': 3,\n",
        "    'age': 4,\n",
        "    'ethnicity': 5\n",
        "}\n",
        "\n",
        "df['cyberbullying_type'] = df['cyberbullying_type'].map(labels_dict)\n",
        "df.head()"
      ]
    },
    {
      "cell_type": "markdown",
      "metadata": {
        "id": "4oWKuEqBWsxS"
      },
      "source": [
        "- Elimina puntuación y convierte a minúsculas\n",
        "- Se utiliza el método __str.translate()__ para eliminar todos los caracteres de puntuación mediante una tabla de traducción creada con el método __str.maketrans__. La constante string.punctuation contiene todos los caracteres de puntuación ASCII, que se eliminan de los valores en la columna"
      ]
    },
    {
      "cell_type": "code",
      "execution_count": 9,
      "metadata": {
        "colab": {
          "base_uri": "https://localhost:8080/",
          "height": 36
        },
        "id": "q73Ry6KTWsxS",
        "outputId": "de16a465-8461-45e6-8895-c1a02f74b389"
      },
      "outputs": [
        {
          "output_type": "execute_result",
          "data": {
            "text/plain": [
              "'!\"#$%&\\'()*+,-./:;<=>?@[\\\\]^_`{|}~'"
            ],
            "application/vnd.google.colaboratory.intrinsic+json": {
              "type": "string"
            }
          },
          "metadata": {},
          "execution_count": 9
        }
      ],
      "source": [
        "import string\n",
        "string.punctuation"
      ]
    },
    {
      "cell_type": "code",
      "execution_count": 10,
      "metadata": {
        "colab": {
          "base_uri": "https://localhost:8080/",
          "height": 206
        },
        "id": "O5kGJQCpWsxT",
        "outputId": "4338ba80-595b-47e3-922b-e03b388a6192"
      },
      "outputs": [
        {
          "output_type": "execute_result",
          "data": {
            "text/plain": [
              "                                          tweet_text  cyberbullying_type\n",
              "0  in other words katandandre your food was crapi...                   0\n",
              "1  why is aussietv so white mkr theblock imaceleb...                   0\n",
              "2  xochitlsuckkks a classy whore or more red velv...                   0\n",
              "3  jasongio meh p  thanks for the heads up but no...                   0\n",
              "4  rudhoeenglish this is an isis account pretendi...                   0"
            ],
            "text/html": [
              "\n",
              "  <div id=\"df-e7e35dc3-2e10-4a60-83e4-5e8ef841694e\" class=\"colab-df-container\">\n",
              "    <div>\n",
              "<style scoped>\n",
              "    .dataframe tbody tr th:only-of-type {\n",
              "        vertical-align: middle;\n",
              "    }\n",
              "\n",
              "    .dataframe tbody tr th {\n",
              "        vertical-align: top;\n",
              "    }\n",
              "\n",
              "    .dataframe thead th {\n",
              "        text-align: right;\n",
              "    }\n",
              "</style>\n",
              "<table border=\"1\" class=\"dataframe\">\n",
              "  <thead>\n",
              "    <tr style=\"text-align: right;\">\n",
              "      <th></th>\n",
              "      <th>tweet_text</th>\n",
              "      <th>cyberbullying_type</th>\n",
              "    </tr>\n",
              "  </thead>\n",
              "  <tbody>\n",
              "    <tr>\n",
              "      <th>0</th>\n",
              "      <td>in other words katandandre your food was crapi...</td>\n",
              "      <td>0</td>\n",
              "    </tr>\n",
              "    <tr>\n",
              "      <th>1</th>\n",
              "      <td>why is aussietv so white mkr theblock imaceleb...</td>\n",
              "      <td>0</td>\n",
              "    </tr>\n",
              "    <tr>\n",
              "      <th>2</th>\n",
              "      <td>xochitlsuckkks a classy whore or more red velv...</td>\n",
              "      <td>0</td>\n",
              "    </tr>\n",
              "    <tr>\n",
              "      <th>3</th>\n",
              "      <td>jasongio meh p  thanks for the heads up but no...</td>\n",
              "      <td>0</td>\n",
              "    </tr>\n",
              "    <tr>\n",
              "      <th>4</th>\n",
              "      <td>rudhoeenglish this is an isis account pretendi...</td>\n",
              "      <td>0</td>\n",
              "    </tr>\n",
              "  </tbody>\n",
              "</table>\n",
              "</div>\n",
              "    <div class=\"colab-df-buttons\">\n",
              "\n",
              "  <div class=\"colab-df-container\">\n",
              "    <button class=\"colab-df-convert\" onclick=\"convertToInteractive('df-e7e35dc3-2e10-4a60-83e4-5e8ef841694e')\"\n",
              "            title=\"Convert this dataframe to an interactive table.\"\n",
              "            style=\"display:none;\">\n",
              "\n",
              "  <svg xmlns=\"http://www.w3.org/2000/svg\" height=\"24px\" viewBox=\"0 -960 960 960\">\n",
              "    <path d=\"M120-120v-720h720v720H120Zm60-500h600v-160H180v160Zm220 220h160v-160H400v160Zm0 220h160v-160H400v160ZM180-400h160v-160H180v160Zm440 0h160v-160H620v160ZM180-180h160v-160H180v160Zm440 0h160v-160H620v160Z\"/>\n",
              "  </svg>\n",
              "    </button>\n",
              "\n",
              "  <style>\n",
              "    .colab-df-container {\n",
              "      display:flex;\n",
              "      gap: 12px;\n",
              "    }\n",
              "\n",
              "    .colab-df-convert {\n",
              "      background-color: #E8F0FE;\n",
              "      border: none;\n",
              "      border-radius: 50%;\n",
              "      cursor: pointer;\n",
              "      display: none;\n",
              "      fill: #1967D2;\n",
              "      height: 32px;\n",
              "      padding: 0 0 0 0;\n",
              "      width: 32px;\n",
              "    }\n",
              "\n",
              "    .colab-df-convert:hover {\n",
              "      background-color: #E2EBFA;\n",
              "      box-shadow: 0px 1px 2px rgba(60, 64, 67, 0.3), 0px 1px 3px 1px rgba(60, 64, 67, 0.15);\n",
              "      fill: #174EA6;\n",
              "    }\n",
              "\n",
              "    .colab-df-buttons div {\n",
              "      margin-bottom: 4px;\n",
              "    }\n",
              "\n",
              "    [theme=dark] .colab-df-convert {\n",
              "      background-color: #3B4455;\n",
              "      fill: #D2E3FC;\n",
              "    }\n",
              "\n",
              "    [theme=dark] .colab-df-convert:hover {\n",
              "      background-color: #434B5C;\n",
              "      box-shadow: 0px 1px 3px 1px rgba(0, 0, 0, 0.15);\n",
              "      filter: drop-shadow(0px 1px 2px rgba(0, 0, 0, 0.3));\n",
              "      fill: #FFFFFF;\n",
              "    }\n",
              "  </style>\n",
              "\n",
              "    <script>\n",
              "      const buttonEl =\n",
              "        document.querySelector('#df-e7e35dc3-2e10-4a60-83e4-5e8ef841694e button.colab-df-convert');\n",
              "      buttonEl.style.display =\n",
              "        google.colab.kernel.accessAllowed ? 'block' : 'none';\n",
              "\n",
              "      async function convertToInteractive(key) {\n",
              "        const element = document.querySelector('#df-e7e35dc3-2e10-4a60-83e4-5e8ef841694e');\n",
              "        const dataTable =\n",
              "          await google.colab.kernel.invokeFunction('convertToInteractive',\n",
              "                                                    [key], {});\n",
              "        if (!dataTable) return;\n",
              "\n",
              "        const docLinkHtml = 'Like what you see? Visit the ' +\n",
              "          '<a target=\"_blank\" href=https://colab.research.google.com/notebooks/data_table.ipynb>data table notebook</a>'\n",
              "          + ' to learn more about interactive tables.';\n",
              "        element.innerHTML = '';\n",
              "        dataTable['output_type'] = 'display_data';\n",
              "        await google.colab.output.renderOutput(dataTable, element);\n",
              "        const docLink = document.createElement('div');\n",
              "        docLink.innerHTML = docLinkHtml;\n",
              "        element.appendChild(docLink);\n",
              "      }\n",
              "    </script>\n",
              "  </div>\n",
              "\n",
              "\n",
              "<div id=\"df-481f1eda-2d55-4722-aaa6-af48ddbfa4f3\">\n",
              "  <button class=\"colab-df-quickchart\" onclick=\"quickchart('df-481f1eda-2d55-4722-aaa6-af48ddbfa4f3')\"\n",
              "            title=\"Suggest charts\"\n",
              "            style=\"display:none;\">\n",
              "\n",
              "<svg xmlns=\"http://www.w3.org/2000/svg\" height=\"24px\"viewBox=\"0 0 24 24\"\n",
              "     width=\"24px\">\n",
              "    <g>\n",
              "        <path d=\"M19 3H5c-1.1 0-2 .9-2 2v14c0 1.1.9 2 2 2h14c1.1 0 2-.9 2-2V5c0-1.1-.9-2-2-2zM9 17H7v-7h2v7zm4 0h-2V7h2v10zm4 0h-2v-4h2v4z\"/>\n",
              "    </g>\n",
              "</svg>\n",
              "  </button>\n",
              "\n",
              "<style>\n",
              "  .colab-df-quickchart {\n",
              "      --bg-color: #E8F0FE;\n",
              "      --fill-color: #1967D2;\n",
              "      --hover-bg-color: #E2EBFA;\n",
              "      --hover-fill-color: #174EA6;\n",
              "      --disabled-fill-color: #AAA;\n",
              "      --disabled-bg-color: #DDD;\n",
              "  }\n",
              "\n",
              "  [theme=dark] .colab-df-quickchart {\n",
              "      --bg-color: #3B4455;\n",
              "      --fill-color: #D2E3FC;\n",
              "      --hover-bg-color: #434B5C;\n",
              "      --hover-fill-color: #FFFFFF;\n",
              "      --disabled-bg-color: #3B4455;\n",
              "      --disabled-fill-color: #666;\n",
              "  }\n",
              "\n",
              "  .colab-df-quickchart {\n",
              "    background-color: var(--bg-color);\n",
              "    border: none;\n",
              "    border-radius: 50%;\n",
              "    cursor: pointer;\n",
              "    display: none;\n",
              "    fill: var(--fill-color);\n",
              "    height: 32px;\n",
              "    padding: 0;\n",
              "    width: 32px;\n",
              "  }\n",
              "\n",
              "  .colab-df-quickchart:hover {\n",
              "    background-color: var(--hover-bg-color);\n",
              "    box-shadow: 0 1px 2px rgba(60, 64, 67, 0.3), 0 1px 3px 1px rgba(60, 64, 67, 0.15);\n",
              "    fill: var(--button-hover-fill-color);\n",
              "  }\n",
              "\n",
              "  .colab-df-quickchart-complete:disabled,\n",
              "  .colab-df-quickchart-complete:disabled:hover {\n",
              "    background-color: var(--disabled-bg-color);\n",
              "    fill: var(--disabled-fill-color);\n",
              "    box-shadow: none;\n",
              "  }\n",
              "\n",
              "  .colab-df-spinner {\n",
              "    border: 2px solid var(--fill-color);\n",
              "    border-color: transparent;\n",
              "    border-bottom-color: var(--fill-color);\n",
              "    animation:\n",
              "      spin 1s steps(1) infinite;\n",
              "  }\n",
              "\n",
              "  @keyframes spin {\n",
              "    0% {\n",
              "      border-color: transparent;\n",
              "      border-bottom-color: var(--fill-color);\n",
              "      border-left-color: var(--fill-color);\n",
              "    }\n",
              "    20% {\n",
              "      border-color: transparent;\n",
              "      border-left-color: var(--fill-color);\n",
              "      border-top-color: var(--fill-color);\n",
              "    }\n",
              "    30% {\n",
              "      border-color: transparent;\n",
              "      border-left-color: var(--fill-color);\n",
              "      border-top-color: var(--fill-color);\n",
              "      border-right-color: var(--fill-color);\n",
              "    }\n",
              "    40% {\n",
              "      border-color: transparent;\n",
              "      border-right-color: var(--fill-color);\n",
              "      border-top-color: var(--fill-color);\n",
              "    }\n",
              "    60% {\n",
              "      border-color: transparent;\n",
              "      border-right-color: var(--fill-color);\n",
              "    }\n",
              "    80% {\n",
              "      border-color: transparent;\n",
              "      border-right-color: var(--fill-color);\n",
              "      border-bottom-color: var(--fill-color);\n",
              "    }\n",
              "    90% {\n",
              "      border-color: transparent;\n",
              "      border-bottom-color: var(--fill-color);\n",
              "    }\n",
              "  }\n",
              "</style>\n",
              "\n",
              "  <script>\n",
              "    async function quickchart(key) {\n",
              "      const quickchartButtonEl =\n",
              "        document.querySelector('#' + key + ' button');\n",
              "      quickchartButtonEl.disabled = true;  // To prevent multiple clicks.\n",
              "      quickchartButtonEl.classList.add('colab-df-spinner');\n",
              "      try {\n",
              "        const charts = await google.colab.kernel.invokeFunction(\n",
              "            'suggestCharts', [key], {});\n",
              "      } catch (error) {\n",
              "        console.error('Error during call to suggestCharts:', error);\n",
              "      }\n",
              "      quickchartButtonEl.classList.remove('colab-df-spinner');\n",
              "      quickchartButtonEl.classList.add('colab-df-quickchart-complete');\n",
              "    }\n",
              "    (() => {\n",
              "      let quickchartButtonEl =\n",
              "        document.querySelector('#df-481f1eda-2d55-4722-aaa6-af48ddbfa4f3 button');\n",
              "      quickchartButtonEl.style.display =\n",
              "        google.colab.kernel.accessAllowed ? 'block' : 'none';\n",
              "    })();\n",
              "  </script>\n",
              "</div>\n",
              "\n",
              "    </div>\n",
              "  </div>\n"
            ],
            "application/vnd.google.colaboratory.intrinsic+json": {
              "type": "dataframe",
              "variable_name": "df",
              "summary": "{\n  \"name\": \"df\",\n  \"rows\": 47692,\n  \"fields\": [\n    {\n      \"column\": \"tweet_text\",\n      \"properties\": {\n        \"dtype\": \"string\",\n        \"num_unique_values\": 45938,\n        \"samples\": [\n          \"fo7935 i love this  but i am legit grossed out by thatfems could end any argument w me by posting their armpit hair pics\",\n          \"i swear he made out he was bullied at school in his music video \\u2018champion\\u2019 but turns out he was the bully\",\n          \"rt lorivd feminazi httptcoafzcmwzl3x\"\n        ],\n        \"semantic_type\": \"\",\n        \"description\": \"\"\n      }\n    },\n    {\n      \"column\": \"cyberbullying_type\",\n      \"properties\": {\n        \"dtype\": \"number\",\n        \"std\": 1,\n        \"min\": 0,\n        \"max\": 5,\n        \"num_unique_values\": 6,\n        \"samples\": [\n          0,\n          1,\n          5\n        ],\n        \"semantic_type\": \"\",\n        \"description\": \"\"\n      }\n    }\n  ]\n}"
            }
          },
          "metadata": {},
          "execution_count": 10
        }
      ],
      "source": [
        "df['tweet_text'] = df['tweet_text'].str.lower().str.translate(str.maketrans('', '', string.punctuation))\n",
        "df.head()"
      ]
    },
    {
      "cell_type": "code",
      "execution_count": 11,
      "metadata": {
        "tags": [],
        "id": "mJVD18c_WsxU"
      },
      "outputs": [],
      "source": [
        "from sklearn.model_selection import train_test_split\n",
        "train_df, val_df= train_test_split(df, test_size = 0.15, random_state = 123)"
      ]
    },
    {
      "cell_type": "code",
      "execution_count": 12,
      "metadata": {
        "tags": [],
        "colab": {
          "base_uri": "https://localhost:8080/"
        },
        "id": "dnlt2x--WsxV",
        "outputId": "570a1fc8-fc10-44ce-e06e-a23a7c88dca5"
      },
      "outputs": [
        {
          "output_type": "execute_result",
          "data": {
            "text/plain": [
              "cyberbullying_type\n",
              "0    6826\n",
              "1    6821\n",
              "5    6777\n",
              "4    6763\n",
              "2    6743\n",
              "3    6608\n",
              "Name: count, dtype: int64"
            ]
          },
          "metadata": {},
          "execution_count": 12
        }
      ],
      "source": [
        "train_df['cyberbullying_type'].value_counts()"
      ]
    },
    {
      "cell_type": "markdown",
      "metadata": {
        "id": "b4KjIrLz8Ryf",
        "outputId": "f4ace4f8-ec84-4556-cba5-87748562de3c"
      },
      "source": [
        "## 2.- Pipeline"
      ]
    },
    {
      "cell_type": "markdown",
      "metadata": {
        "id": "NWW4RxWhpAZf"
      },
      "source": [
        "- Crea vocabulario y define tokenizer."
      ]
    },
    {
      "cell_type": "code",
      "execution_count": 13,
      "metadata": {
        "id": "7-V2bNQqpLTE"
      },
      "outputs": [],
      "source": [
        "from torchtext.data.utils import get_tokenizer\n",
        "from torchtext.vocab import vocab as Vocab\n",
        "from collections import Counter"
      ]
    },
    {
      "cell_type": "code",
      "execution_count": 14,
      "metadata": {
        "id": "0viwLWSUpGrk"
      },
      "outputs": [],
      "source": [
        "tokenizer = get_tokenizer('basic_english')"
      ]
    },
    {
      "cell_type": "code",
      "execution_count": 15,
      "metadata": {
        "id": "qpTS_ktRo_xd"
      },
      "outputs": [],
      "source": [
        "def build_vocab(text, tokenizer, min_freq=5):\n",
        "    counter = Counter()\n",
        "    for string_ in text:\n",
        "        counter.update(tokenizer(string_))\n",
        "    return Vocab(counter, min_freq=min_freq,\n",
        "                 specials=['<unk>', '<pad>'])\n",
        "\n",
        "\n",
        "vocab = build_vocab(train_df.tweet_text.values, tokenizer, 5)"
      ]
    },
    {
      "cell_type": "code",
      "execution_count": 16,
      "metadata": {
        "colab": {
          "base_uri": "https://localhost:8080/"
        },
        "id": "RlV0maHzt88t",
        "outputId": "df3f7b6e-9058-4a87-ffc7-45a360d2bdeb"
      },
      "outputs": [
        {
          "output_type": "execute_result",
          "data": {
            "text/plain": [
              "9952"
            ]
          },
          "metadata": {},
          "execution_count": 16
        }
      ],
      "source": [
        "vocab_size = len(vocab) + 1\n",
        "vocab_size"
      ]
    },
    {
      "cell_type": "code",
      "execution_count": 17,
      "metadata": {
        "id": "3wG0tHjuWsxa"
      },
      "outputs": [],
      "source": [
        "vocab.set_default_index(len(vocab)) # evita error <ukn>"
      ]
    },
    {
      "cell_type": "code",
      "execution_count": 18,
      "metadata": {
        "scrolled": true,
        "colab": {
          "base_uri": "https://localhost:8080/"
        },
        "id": "Og1BFvJrWsxa",
        "outputId": "9dd04a1e-b7b3-4742-8303-7ee5f0e058fd"
      },
      "outputs": [
        {
          "output_type": "execute_result",
          "data": {
            "text/plain": [
              "(40523, 7149)"
            ]
          },
          "metadata": {},
          "execution_count": 18
        }
      ],
      "source": [
        "maxlen = 64\n",
        "\n",
        "def data_process(x, y):\n",
        "    data = []\n",
        "    for raw_txt, target in zip(x, y):\n",
        "        tensor_ = torch.tensor([vocab[token] for token in tokenizer(raw_txt)],\n",
        "                        dtype=torch.long)\n",
        "        if tensor_.shape[0] <= maxlen:\n",
        "            # int64 to avoid CrossEntropyLoss \"expected scalar type Long but found Float\"\n",
        "            target_ = torch.tensor(target, dtype=torch.int64)\n",
        "            data.append((tensor_, target_))\n",
        "    return data\n",
        "\n",
        "train_data = data_process(train_df.tweet_text.values,\n",
        "                          train_df.cyberbullying_type.values)\n",
        "val_data = data_process(val_df.tweet_text.values,\n",
        "                        val_df.cyberbullying_type.values)\n",
        "len(train_data), len(val_data)"
      ]
    },
    {
      "cell_type": "code",
      "execution_count": 19,
      "metadata": {
        "id": "cW6E9jkJTe1o",
        "colab": {
          "base_uri": "https://localhost:8080/"
        },
        "outputId": "c9b814fe-b035-4379-f7a7-f69e65317894"
      },
      "outputs": [
        {
          "output_type": "stream",
          "name": "stderr",
          "text": [
            "/usr/local/lib/python3.10/dist-packages/torch/utils/data/dataloader.py:558: UserWarning: This DataLoader will create 4 worker processes in total. Our suggested max number of worker in current system is 2, which is smaller than what this DataLoader is going to create. Please be aware that excessive worker creation might get DataLoader running slow or even freeze, lower the worker number to avoid potential slowness/freeze if necessary.\n",
            "  warnings.warn(_create_warning_msg(\n"
          ]
        }
      ],
      "source": [
        "batch_size = 64\n",
        "PAD_IDX = vocab['<pad>']\n",
        "\n",
        "from torch.nn.utils.rnn import pad_sequence\n",
        "from torch.utils.data import DataLoader\n",
        "\n",
        "def generate_batch(data_batch):\n",
        "    x, y = [], []\n",
        "    for (x_item, y_item) in data_batch:\n",
        "        x.append(x_item)\n",
        "        y.append(y_item)\n",
        "\n",
        "    x = pad_sequence(x, batch_first=True, padding_value=PAD_IDX)\n",
        "    # int64 to avoid CrossEntropyLoss \"expected scalar type Long but found Float\"\n",
        "    y = torch.tensor(y, dtype=torch.int64)\n",
        "    return x, y\n",
        "\n",
        "\n",
        "train_loader = DataLoader(train_data, batch_size=batch_size,\n",
        "                          shuffle=True, collate_fn=generate_batch,\n",
        "                          num_workers=4, pin_memory=True)\n",
        "val_loader = DataLoader(val_data, batch_size=batch_size,\n",
        "                        shuffle=True, collate_fn=generate_batch,\n",
        "                        num_workers=4, pin_memory=True)"
      ]
    },
    {
      "cell_type": "code",
      "execution_count": 20,
      "metadata": {
        "colab": {
          "base_uri": "https://localhost:8080/"
        },
        "id": "u_N6IRYsT4ry",
        "outputId": "35681e3f-5639-4b76-f7cb-32da7cb6cff4",
        "scrolled": true
      },
      "outputs": [
        {
          "output_type": "stream",
          "name": "stdout",
          "text": [
            "955 ms ± 38.4 ms per loop (mean ± std. dev. of 7 runs, 1 loop each)\n"
          ]
        }
      ],
      "source": [
        "%%timeit\n",
        "train_batch, target_batch = next(iter(train_loader))"
      ]
    },
    {
      "cell_type": "code",
      "execution_count": 21,
      "metadata": {
        "id": "aauQX2tFXD8K"
      },
      "outputs": [],
      "source": [
        "train_batch, target_batch = next(iter(train_loader))"
      ]
    },
    {
      "cell_type": "code",
      "execution_count": 22,
      "metadata": {
        "colab": {
          "base_uri": "https://localhost:8080/"
        },
        "id": "ROw_9EjsT2Et",
        "outputId": "f5152bf2-ab07-43f8-f544-085ba9d58e23"
      },
      "outputs": [
        {
          "output_type": "execute_result",
          "data": {
            "text/plain": [
              "(torch.Size([64, 63]), torch.Size([64]))"
            ]
          },
          "metadata": {},
          "execution_count": 22
        }
      ],
      "source": [
        "train_batch.shape, target_batch.shape"
      ]
    },
    {
      "cell_type": "markdown",
      "metadata": {
        "id": "PZ7f4DHJreIj"
      },
      "source": [
        "## 3.- Modelo"
      ]
    },
    {
      "cell_type": "markdown",
      "metadata": {
        "id": "M2Vv3PCUWsxd"
      },
      "source": [
        "### RNN simple\n",
        "\n",
        "RNN:\n",
        "\\begin{equation}\n",
        "h_t = f(Wx_t + Uh_{t-1} + b)\n",
        "\\end{equation}"
      ]
    },
    {
      "cell_type": "code",
      "execution_count": 23,
      "metadata": {
        "id": "1dSV2JICWsxe"
      },
      "outputs": [],
      "source": [
        "import torch.nn as nn\n",
        "from torch import optim\n",
        "import time"
      ]
    },
    {
      "cell_type": "code",
      "source": [
        "class Attention(nn.Module):\n",
        "    def __init__(self, dim, h):\n",
        "        super(Attention, self).__init__()\n",
        "        self.dim = dim\n",
        "        self.h = h\n",
        "        self.h_dim = int(dim/h)\n",
        "        self.scale = self.h_dim ** -0.5\n",
        "        self.wq = nn.Linear(dim, dim)\n",
        "        self.wk = nn.Linear(dim, dim)\n",
        "        self.wv = nn.Linear(dim, dim)\n",
        "\n",
        "    def forward(self, x):\n",
        "      B, L, D = x.shape\n",
        "      q = self.wq(x)\n",
        "      k = self.wk(x)\n",
        "      v = self.wv(x)\n",
        "      q = q.reshape([B, L, self.h_dim, -1])\n",
        "      q = q.permute([0, 3, 1, 2])\n",
        "      k = k.reshape([B, L, self.h_dim, -1])\n",
        "      k = k.permute([0, 3, 2, 1])\n",
        "      v = v.reshape([B, L, self.h_dim, -1])\n",
        "      v = v.permute([0, 3, 1, 2])\n",
        "\n",
        "      qk = torch.matmul(q, k)\n",
        "      attn = torch.softmax(qk / self.scale, -1)\n",
        "      out = torch.matmul(attn, v).permute([0, 2, 1, 3])\n",
        "      out = out.reshape([B, L, -1])\n",
        "      return out\n",
        "\n",
        "b = torch.ones([2, 256, 16])\n",
        "a= Attention(16, 2)\n",
        "a(b).shape"
      ],
      "metadata": {
        "colab": {
          "base_uri": "https://localhost:8080/"
        },
        "id": "CRwHxAuGYEKa",
        "outputId": "eb3a33d0-b56f-4c86-8c66-ffba3209fc82"
      },
      "execution_count": 24,
      "outputs": [
        {
          "output_type": "execute_result",
          "data": {
            "text/plain": [
              "torch.Size([2, 256, 16])"
            ]
          },
          "metadata": {},
          "execution_count": 24
        }
      ]
    },
    {
      "cell_type": "code",
      "source": [
        "class TransformerBlock(nn.Module):\n",
        "    def __init__(self, dim, h):\n",
        "        super(TransformerBlock, self).__init__()\n",
        "        self.ln1 = torch.nn.LayerNorm(dim)\n",
        "        self.ln2 = torch.nn.LayerNorm(dim)\n",
        "        self.attn = Attention(dim, h)\n",
        "        self.mlp = torch.nn.Sequential(\n",
        "            nn.Linear(dim, dim),\n",
        "            nn.GELU(),\n",
        "            nn.Linear(dim, dim)\n",
        "        )\n",
        "\n",
        "    def forward(self, inp):\n",
        "      x = self.attn(inp) + inp\n",
        "      skip = self.ln1(x)\n",
        "      x = self.mlp(skip) + skip\n",
        "      x = self.ln2(x)\n",
        "      return x\n",
        "\n",
        "t=TransformerBlock(16, 2)\n",
        "t(b)"
      ],
      "metadata": {
        "colab": {
          "base_uri": "https://localhost:8080/"
        },
        "id": "TJmNuwH1clQd",
        "outputId": "806ce157-d0b0-4343-d069-2825e02feb09"
      },
      "execution_count": 25,
      "outputs": [
        {
          "output_type": "execute_result",
          "data": {
            "text/plain": [
              "tensor([[[ 0.0147,  1.0894, -1.5585,  ...,  2.7538, -0.4757, -0.7635],\n",
              "         [ 0.0147,  1.0894, -1.5585,  ...,  2.7538, -0.4757, -0.7635],\n",
              "         [ 0.0147,  1.0894, -1.5585,  ...,  2.7538, -0.4757, -0.7635],\n",
              "         ...,\n",
              "         [ 0.0147,  1.0894, -1.5585,  ...,  2.7538, -0.4757, -0.7635],\n",
              "         [ 0.0147,  1.0894, -1.5585,  ...,  2.7538, -0.4757, -0.7635],\n",
              "         [ 0.0147,  1.0894, -1.5585,  ...,  2.7538, -0.4757, -0.7635]],\n",
              "\n",
              "        [[ 0.0147,  1.0894, -1.5585,  ...,  2.7538, -0.4757, -0.7635],\n",
              "         [ 0.0147,  1.0894, -1.5585,  ...,  2.7538, -0.4757, -0.7635],\n",
              "         [ 0.0147,  1.0894, -1.5585,  ...,  2.7538, -0.4757, -0.7635],\n",
              "         ...,\n",
              "         [ 0.0147,  1.0894, -1.5585,  ...,  2.7538, -0.4757, -0.7635],\n",
              "         [ 0.0147,  1.0894, -1.5585,  ...,  2.7538, -0.4757, -0.7635],\n",
              "         [ 0.0147,  1.0894, -1.5585,  ...,  2.7538, -0.4757, -0.7635]]],\n",
              "       grad_fn=<NativeLayerNormBackward0>)"
            ]
          },
          "metadata": {},
          "execution_count": 25
        }
      ]
    },
    {
      "cell_type": "code",
      "source": [
        "class Transformer(nn.Module):\n",
        "    def __init__(self, vocab_size, maxlen, dim, h):\n",
        "        super(Transformer, self).__init__()\n",
        "        self.dim = dim\n",
        "        self.emb = nn.Embedding(vocab_size, dim)\n",
        "        self.pos = nn.Parameter(torch.rand(1, maxlen, dim))\n",
        "\n",
        "        self.transformer = nn.Sequential()\n",
        "\n",
        "        for _ in range(4):\n",
        "            self.transformer.append(\n",
        "                TransformerBlock(dim, h)\n",
        "            )\n",
        "\n",
        "        self.mlp_head=torch.nn.Sequential(\n",
        "            torch.nn.LayerNorm(dim),\n",
        "            nn.Linear(dim, 6)\n",
        "        )\n",
        "\n",
        "    def forward(self, x):\n",
        "        B, L = x.shape\n",
        "        x = self.emb(x) + self.pos[:, L, :]\n",
        "        x = self.transformer(x)\n",
        "        x = self.mlp_head(x[:,  -1, :])\n",
        "        return x\n",
        "\n",
        "trans =Transformer(9952, 64+1, 64, 2)\n",
        "trans(train_batch).shape"
      ],
      "metadata": {
        "colab": {
          "base_uri": "https://localhost:8080/"
        },
        "id": "qJaYcsx0ef58",
        "outputId": "90d36f9f-e146-4d80-a9ba-ab4a6d12e7db"
      },
      "execution_count": 26,
      "outputs": [
        {
          "output_type": "execute_result",
          "data": {
            "text/plain": [
              "torch.Size([64, 6])"
            ]
          },
          "metadata": {},
          "execution_count": 26
        }
      ]
    },
    {
      "cell_type": "code",
      "execution_count": 27,
      "metadata": {
        "colab": {
          "base_uri": "https://localhost:8080/"
        },
        "id": "D01PZJVbWsxe",
        "outputId": "1485661b-981c-4796-c4bc-1c68ed7279a0"
      },
      "outputs": [
        {
          "output_type": "execute_result",
          "data": {
            "text/plain": [
              "torch.Size([64, 6])"
            ]
          },
          "metadata": {},
          "execution_count": 27
        }
      ],
      "source": [
        "class RNN(nn.Module):\n",
        "    def __init__(self, vocab_size):\n",
        "        super(RNN, self).__init__()\n",
        "        self.embedding = nn.Embedding(vocab_size, 128)\n",
        "        self.rnn = nn.RNN(input_size=128,\n",
        "                        hidden_size=128,\n",
        "                        num_layers=1,\n",
        "                        batch_first=True)\n",
        "        self.fc1 = nn.Linear(128, 16)\n",
        "        self.relu1 = nn.ReLU()\n",
        "        self.fc2 = nn.Linear(16, 16)\n",
        "        self.relu2 = nn.ReLU()\n",
        "        self.fc3 = nn.Linear(16, 6)\n",
        "\n",
        "    def forward(self, x):\n",
        "        x = self.embedding(x)\n",
        "        x, hidden = self.rnn(x)\n",
        "        x = x[:, -1, :]\n",
        "        x = self.fc1(x)\n",
        "        x = self.relu1(x)\n",
        "        x = self.fc2(x)\n",
        "        x = self.relu2(x)\n",
        "        x = self.fc3(x)\n",
        "        return x\n",
        "\n",
        "rnn = RNN(vocab_size)\n",
        "output_batch = rnn(train_batch)\n",
        "output_batch.shape"
      ]
    },
    {
      "cell_type": "markdown",
      "metadata": {
        "id": "87-0prZUWsxe"
      },
      "source": [
        "### LSTM\n",
        "\n",
        "LSTM:\n",
        "\n",
        "\\begin{align}\n",
        "i_t & = \\sigma(W^ix_t + U^ih_{t-1} + b^i) \\\\\n",
        "f_t & = \\sigma(W^fx_t + U^fh_{t-1} + b^f) \\\\\n",
        "o_t & = \\sigma(W^ox_t + U^oh_{t-1} + b^o) \\\\\n",
        "g_t & = \\text{tanh}(W^gx_t + U^gh_{t-1} + b^g) \\\\\n",
        "c_t & = f_t \\odot c_{t-1} + i_t \\odot g_t\\\\\n",
        "h_t & = o_t \\odot \\text{tanh}(c_t) \\\\\n",
        "\\end{align}"
      ]
    },
    {
      "cell_type": "code",
      "execution_count": 28,
      "metadata": {
        "colab": {
          "base_uri": "https://localhost:8080/"
        },
        "id": "t2ndlTvDWsxf",
        "outputId": "7fdf146c-9fef-4a86-d7cf-356489df232a"
      },
      "outputs": [
        {
          "output_type": "execute_result",
          "data": {
            "text/plain": [
              "torch.Size([64, 6])"
            ]
          },
          "metadata": {},
          "execution_count": 28
        }
      ],
      "source": [
        "class LSTM(nn.Module):\n",
        "    def __init__(self, vocab_size):\n",
        "        super(LSTM, self).__init__()\n",
        "        self.embedding = nn.Embedding(vocab_size, 128)\n",
        "        self.lstm = nn.LSTM(input_size=128,\n",
        "                        hidden_size=128,\n",
        "                        num_layers=1,\n",
        "                        batch_first=True)\n",
        "        self.fc1 = nn.Linear(128, 16)\n",
        "        self.relu1 = nn.ReLU()\n",
        "        self.fc2 = nn.Linear(16, 16)\n",
        "        self.relu2 = nn.ReLU()\n",
        "        self.fc3 = nn.Linear(16, 6)\n",
        "\n",
        "    def forward(self, x):\n",
        "        x = self.embedding(x)\n",
        "        x, (hidden, cell) = self.lstm(x)\n",
        "        x = x[:, -1, :]\n",
        "        x = self.fc1(x)\n",
        "        x = self.relu1(x)\n",
        "        x = self.fc2(x)\n",
        "        x = self.relu2(x)\n",
        "        x = self.fc3(x)\n",
        "        return x\n",
        "\n",
        "lstm = LSTM(vocab_size)\n",
        "output_batch = lstm(train_batch)\n",
        "output_batch.shape"
      ]
    },
    {
      "cell_type": "markdown",
      "metadata": {
        "id": "MsJbLyZ6b_57"
      },
      "source": [
        "## 4.- Entrenamiento"
      ]
    },
    {
      "cell_type": "code",
      "execution_count": 29,
      "metadata": {
        "id": "FwlOLQfvWsxg"
      },
      "outputs": [],
      "source": [
        "loss_fn = torch.nn.CrossEntropyLoss()"
      ]
    },
    {
      "cell_type": "code",
      "execution_count": 30,
      "metadata": {
        "id": "R5bmAldOcJn0"
      },
      "outputs": [],
      "source": [
        "def train(model, device, train_loader, optimizer, epoch):\n",
        "    start = time.time()\n",
        "    running_loss = 0.0\n",
        "    model.train()\n",
        "    for inputs, labels in train_loader:\n",
        "        inputs, labels = inputs.to(device), labels.to(device)\n",
        "\n",
        "        # zero the parameter gradients\n",
        "        optimizer.zero_grad()\n",
        "\n",
        "        # forward + backward + optimize\n",
        "        outputs = model(inputs)\n",
        "        outputs = outputs.squeeze()\n",
        "        loss = loss_fn(outputs, labels)\n",
        "        loss.backward()\n",
        "        optimizer.step()\n",
        "\n",
        "        running_loss += loss.item()\n",
        "\n",
        "    print(f'\\nTime for epoch {epoch} is {time.time()-start:.4f} sec Train loss: {running_loss / len(train_loader):.4f}')"
      ]
    },
    {
      "cell_type": "code",
      "execution_count": 31,
      "metadata": {
        "id": "xwUH9ZlHWsxh"
      },
      "outputs": [],
      "source": [
        "def test(model, device, test_loader):\n",
        "    start = time.time()\n",
        "    running_loss = 0.0\n",
        "    running_acc = 0.0\n",
        "    with torch.no_grad():\n",
        "        model.eval()\n",
        "        for inputs, labels in test_loader:\n",
        "            inputs, labels = inputs.to(device), labels.to(device)\n",
        "\n",
        "            outputs = model(inputs)\n",
        "            outputs = outputs.squeeze()\n",
        "            loss = loss_fn(outputs, labels)\n",
        "            _, pred = torch.max(outputs.data, 1)\n",
        "            running_acc += (pred == labels).sum().item()\n",
        "            running_loss += loss.item()\n",
        "\n",
        "    print(f'Time for eval is {time.time()-start:.4f} sec Val loss: {running_loss / len(test_loader):.4f}')\n",
        "    print(f'Val acc: {running_acc / len(test_loader.dataset):.4f}')"
      ]
    },
    {
      "cell_type": "code",
      "execution_count": 32,
      "metadata": {
        "colab": {
          "base_uri": "https://localhost:8080/"
        },
        "id": "EvsuJHMBlm9y",
        "outputId": "4e6da109-4c05-4629-c327-a37fbc684b9e"
      },
      "outputs": [
        {
          "output_type": "stream",
          "name": "stdout",
          "text": [
            "cuda:0\n"
          ]
        }
      ],
      "source": [
        "device = torch.device('cuda:0' if torch.cuda.is_available() else 'cpu')\n",
        "print(device)"
      ]
    },
    {
      "cell_type": "code",
      "execution_count": 33,
      "metadata": {
        "id": "wl9MQCp9TLCh"
      },
      "outputs": [],
      "source": [
        "trans.to(device)\n",
        "\n",
        "trans_optimizer = optim.Adam(trans.parameters(), lr=0.001)"
      ]
    },
    {
      "cell_type": "code",
      "execution_count": 34,
      "metadata": {
        "colab": {
          "base_uri": "https://localhost:8080/"
        },
        "id": "gtR1RoSBkARg",
        "outputId": "1174ca9d-424a-49f3-c85f-854ef374553d",
        "tags": []
      },
      "outputs": [
        {
          "output_type": "stream",
          "name": "stderr",
          "text": [
            "/usr/local/lib/python3.10/dist-packages/torch/utils/data/dataloader.py:558: UserWarning: This DataLoader will create 4 worker processes in total. Our suggested max number of worker in current system is 2, which is smaller than what this DataLoader is going to create. Please be aware that excessive worker creation might get DataLoader running slow or even freeze, lower the worker number to avoid potential slowness/freeze if necessary.\n",
            "  warnings.warn(_create_warning_msg(\n",
            "/usr/lib/python3.10/multiprocessing/popen_fork.py:66: RuntimeWarning: os.fork() was called. os.fork() is incompatible with multithreaded code, and JAX is multithreaded, so this will likely lead to a deadlock.\n",
            "  self.pid = os.fork()\n",
            "/usr/lib/python3.10/multiprocessing/popen_fork.py:66: RuntimeWarning: os.fork() was called. os.fork() is incompatible with multithreaded code, and JAX is multithreaded, so this will likely lead to a deadlock.\n",
            "  self.pid = os.fork()\n"
          ]
        },
        {
          "output_type": "stream",
          "name": "stdout",
          "text": [
            "\n",
            "Time for epoch 0 is 8.6568 sec Train loss: 0.9659\n",
            "Time for eval is 0.7652 sec Val loss: 0.7133\n",
            "Val acc: 0.7061\n",
            "\n",
            "Time for epoch 1 is 8.2849 sec Train loss: 0.6809\n",
            "Time for eval is 0.7083 sec Val loss: 0.6405\n",
            "Val acc: 0.7372\n",
            "\n",
            "Time for epoch 2 is 12.7183 sec Train loss: 0.6115\n",
            "Time for eval is 1.0410 sec Val loss: 0.5921\n",
            "Val acc: 0.7545\n",
            "\n",
            "Time for epoch 3 is 10.7821 sec Train loss: 0.5975\n",
            "Time for eval is 0.7138 sec Val loss: 0.5610\n",
            "Val acc: 0.7733\n",
            "\n",
            "Time for epoch 4 is 7.9813 sec Train loss: 0.5564\n",
            "Time for eval is 0.6846 sec Val loss: 0.5492\n",
            "Val acc: 0.7682\n",
            "\n",
            "Time for epoch 5 is 7.4834 sec Train loss: 0.5437\n",
            "Time for eval is 0.9057 sec Val loss: 0.5302\n",
            "Val acc: 0.7773\n",
            "\n",
            "Time for epoch 6 is 7.7129 sec Train loss: 0.5455\n",
            "Time for eval is 0.6910 sec Val loss: 0.5171\n",
            "Val acc: 0.7882\n"
          ]
        }
      ],
      "source": [
        "epochs = 7\n",
        "\n",
        "for epoch in range(epochs):\n",
        "    train(trans, device, train_loader, trans_optimizer, epoch)\n",
        "    test(trans, device, val_loader)"
      ]
    },
    {
      "cell_type": "code",
      "execution_count": 35,
      "metadata": {
        "id": "OMpi1vCYWsxj"
      },
      "outputs": [],
      "source": [
        "lstm.to(device)\n",
        "\n",
        "lstm_optimizer = optim.Adam(lstm.parameters(), lr=0.001)"
      ]
    },
    {
      "cell_type": "code",
      "execution_count": 36,
      "metadata": {
        "colab": {
          "base_uri": "https://localhost:8080/"
        },
        "outputId": "41cb5a73-39a0-42fa-859e-15c6fed69c82",
        "tags": [],
        "id": "SMHJlSRSWsxj"
      },
      "outputs": [
        {
          "output_type": "stream",
          "name": "stdout",
          "text": [
            "\n",
            "Time for epoch 0 is 3.5159 sec Train loss: 1.3680\n",
            "Time for eval is 0.6819 sec Val loss: 0.6391\n",
            "Val acc: 0.7327\n",
            "\n",
            "Time for epoch 1 is 3.2970 sec Train loss: 0.5137\n",
            "Time for eval is 0.4472 sec Val loss: 0.4614\n",
            "Val acc: 0.8000\n",
            "\n",
            "Time for epoch 2 is 2.9945 sec Train loss: 0.4201\n",
            "Time for eval is 0.4639 sec Val loss: 0.4316\n",
            "Val acc: 0.8205\n",
            "\n",
            "Time for epoch 3 is 3.0675 sec Train loss: 0.3666\n",
            "Time for eval is 0.4816 sec Val loss: 0.4322\n",
            "Val acc: 0.8163\n",
            "\n",
            "Time for epoch 4 is 3.7423 sec Train loss: 0.3185\n",
            "Time for eval is 0.4601 sec Val loss: 0.4324\n",
            "Val acc: 0.8194\n",
            "\n",
            "Time for epoch 5 is 2.9889 sec Train loss: 0.2748\n",
            "Time for eval is 0.4468 sec Val loss: 0.4382\n",
            "Val acc: 0.8265\n",
            "\n",
            "Time for epoch 6 is 3.0002 sec Train loss: 0.2364\n",
            "Time for eval is 0.4557 sec Val loss: 0.4921\n",
            "Val acc: 0.8183\n"
          ]
        }
      ],
      "source": [
        "epochs = 7\n",
        "\n",
        "for epoch in range(epochs):\n",
        "    train(lstm, device, train_loader, lstm_optimizer, epoch)\n",
        "    test(lstm, device, val_loader)"
      ]
    },
    {
      "cell_type": "markdown",
      "metadata": {
        "id": "nsDNasoTWsxk"
      },
      "source": [
        "## 5.- Vectores"
      ]
    },
    {
      "cell_type": "code",
      "execution_count": 37,
      "metadata": {
        "scrolled": true,
        "id": "98dIk1jlWsxk",
        "colab": {
          "base_uri": "https://localhost:8080/"
        },
        "outputId": "e9e027ea-1f73-46c4-fc43-3f5ef58bfbc3"
      },
      "outputs": [
        {
          "output_type": "execute_result",
          "data": {
            "text/plain": [
              "tensor([ 588,  248,  493, 1192,  820, 3232,  731, 1844,  788,  593, 5176,  749,\n",
              "        1171,  269,  604, 1692, 2801])"
            ]
          },
          "metadata": {},
          "execution_count": 37
        }
      ],
      "source": [
        "words = 'bad good hate happy love scared friend sad alive family confident fight live funny best great amazing'\n",
        "words_ids = torch.tensor([vocab[token] for token in tokenizer(words)])\n",
        "words_ids"
      ]
    },
    {
      "cell_type": "code",
      "execution_count": 38,
      "metadata": {
        "id": "EaBvtO58Wsxl",
        "colab": {
          "base_uri": "https://localhost:8080/"
        },
        "outputId": "ca33b5c7-2504-4cff-a4c7-8f17f396ae8d"
      },
      "outputs": [
        {
          "output_type": "execute_result",
          "data": {
            "text/plain": [
              "LSTM(\n",
              "  (embedding): Embedding(9952, 128)\n",
              "  (lstm): LSTM(128, 128, batch_first=True)\n",
              "  (fc1): Linear(in_features=128, out_features=16, bias=True)\n",
              "  (relu1): ReLU()\n",
              "  (fc2): Linear(in_features=16, out_features=16, bias=True)\n",
              "  (relu2): ReLU()\n",
              "  (fc3): Linear(in_features=16, out_features=6, bias=True)\n",
              ")"
            ]
          },
          "metadata": {},
          "execution_count": 38
        }
      ],
      "source": [
        "lstm.to('cpu')\n",
        "lstm.eval()"
      ]
    },
    {
      "cell_type": "code",
      "execution_count": 39,
      "metadata": {
        "id": "pEjmNgV5Wsxl",
        "colab": {
          "base_uri": "https://localhost:8080/"
        },
        "outputId": "9bbde439-d557-4bc4-f7c8-2b8c6e4a4429"
      },
      "outputs": [
        {
          "output_type": "execute_result",
          "data": {
            "text/plain": [
              "torch.Size([17, 128])"
            ]
          },
          "metadata": {},
          "execution_count": 39
        }
      ],
      "source": [
        "embeddings = lstm.embedding(words_ids).detach()\n",
        "embeddings.shape"
      ]
    },
    {
      "cell_type": "markdown",
      "metadata": {
        "id": "QfUA35tAWsxm"
      },
      "source": [
        "- Visualización de los vectores aprendidos"
      ]
    },
    {
      "cell_type": "code",
      "execution_count": 40,
      "metadata": {
        "id": "sUehSDqlWsxm",
        "colab": {
          "base_uri": "https://localhost:8080/",
          "height": 448
        },
        "outputId": "f2d3eeb6-6928-4bb9-cd1f-367a55f213ef"
      },
      "outputs": [
        {
          "output_type": "stream",
          "name": "stdout",
          "text": [
            "(17, 2)\n"
          ]
        },
        {
          "output_type": "display_data",
          "data": {
            "text/plain": [
              "<Figure size 640x480 with 1 Axes>"
            ],
            "image/png": "[encoded data removed]"
          },
          "metadata": {}
        }
      ],
      "source": [
        "import matplotlib.pyplot as plt\n",
        "from sklearn.decomposition import PCA\n",
        "\n",
        "\n",
        "# Perform PCA on embeddings\n",
        "pca = PCA(n_components=2)\n",
        "pca_embeddings = pca.fit_transform(embeddings)\n",
        "print(pca_embeddings.shape)\n",
        "\n",
        "# Plot embeddings using matplotlib\n",
        "fig, ax = plt.subplots()\n",
        "ax.scatter(pca_embeddings[:, 0], pca_embeddings[:, 1], marker='o', c='b')\n",
        "\n",
        "for i, word in enumerate(words.split()):\n",
        "    ax.annotate(word, (pca_embeddings[i, 0], pca_embeddings[i, 1]))\n",
        "\n",
        "plt.show()"
      ]
    },
    {
      "cell_type": "markdown",
      "source": [
        "## 6.- Conclusiones"
      ],
      "metadata": {
        "id": "KCSqLCVLVIWc"
      }
    },
    {
      "cell_type": "markdown",
      "source": [
        "En este ejercicio se implementó un modelo Transformer con una capa de atención y una capa feedforward con conexiones residuales y normalización.\n",
        "\n",
        "En la capa de atención, como se vió en teoría, se realizan transformaciones para generar tres matrices q, k y v. Estas matrices, claves y valores se dividen en múltiples headers. Al final se aplica una función softmax para obtener los pesos de atención normalizados.\n",
        "\n",
        "La capa TransformerBlock encapsula la unidad básica del Transformer y consiste de una capa de atención seguida de una capa feedforward (MLP). Después de la capa de atención se añade una conexión residual y se normaliza la salida con una capa de normalización, este proceso también ocurre después del MLP.\n",
        "\n",
        "Finalmente la clase Transformer consiste en una capa de embedding seguida de una suma con embeddings de posición y multiples bloques de transformers en secuencia donde al final se normalizan los valores y se utiliza una capa lineal para la clasificación."
      ],
      "metadata": {
        "id": "4ocI0bW0VQ4r"
      }
    }
  ],
  "metadata": {
    "accelerator": "GPU",
    "colab": {
      "provenance": []
    },
    "gpuClass": "standard",
    "kernelspec": {
      "display_name": "Python 3 (ipykernel)",
      "language": "python",
      "name": "python3"
    },
    "language_info": {
      "codemirror_mode": {
        "name": "ipython",
        "version": 3
      },
      "file_extension": ".py",
      "mimetype": "text/x-python",
      "name": "python",
      "nbconvert_exporter": "python",
      "pygments_lexer": "ipython3",
      "version": "3.10.13"
    }
  },
  "nbformat": 4,
  "nbformat_minor": 0
}